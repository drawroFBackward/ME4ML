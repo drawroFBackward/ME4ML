{
  "nbformat": 4,
  "nbformat_minor": 0,
  "metadata": {
    "colab": {
      "name": "tutorial6b_PH.ipynb",
      "provenance": [],
      "collapsed_sections": []
    },
    "kernelspec": {
      "name": "python3",
      "display_name": "Python 3"
    }
  },
  "cells": [
    {
      "cell_type": "code",
      "metadata": {
        "id": "ktf471zM8zzZ"
      },
      "source": [
        "import numpy as np\n",
        "\n",
        "\n",
        "def get_cov(sdx=1., sdy=1., rotangdeg=0.):\n",
        "    covar = np.array([[sdx, 0], [0, sdy]])\n",
        "    rot_ang = rotangdeg / 360 * 2 * np.pi\n",
        "    rot_mat = np.array([[np.cos(rot_ang), -np.sin(rot_ang)], [np.sin(rot_ang), np.cos(rot_ang)]])\n",
        "\n",
        "    covar = np.matmul(np.matmul(rot_mat, covar), rot_mat.transpose())\n",
        "    return covar\n",
        "\n",
        "\n",
        "def gen_circular_distribution(n=500, scale=1):\n",
        "    a = np.round(n / 7).astype('int')\n",
        "    b = np.round(2*n / 7).astype('int')\n",
        "    c = n - a - b\n",
        "    r1 = np.concatenate(\n",
        "        [np.random.normal(loc=2, scale=scale, size=[a, 1]), np.random.normal(loc=8, scale=scale, size=[c, 1])])\n",
        "    r2 = np.random.normal(loc=5, scale=scale, size=[b, 1])\n",
        "\n",
        "    th1 = np.random.uniform(low=0, high=2 * np.pi, size=[a+c, 1])\n",
        "    th2 = np.random.uniform(low=0, high=2 * np.pi, size=[b, 1])\n",
        "\n",
        "    x1a = r1 * np.cos(th1)\n",
        "    x2a = r1 * np.sin(th1)\n",
        "\n",
        "    x1b = r2 * np.cos(th2)\n",
        "    x2b = r2 * np.sin(th2)\n",
        "\n",
        "    X = np.concatenate([np.concatenate([x1a.reshape([a+c, 1]), x1b.reshape([b, 1])]),\n",
        "                        np.concatenate([x2a.reshape([a+c, 1]), x2b.reshape([b, 1])])], axis=1)\n",
        "\n",
        "    y = np.concatenate([np.zeros([a+c, 1]), np.ones([b, 1])]).squeeze()\n",
        "    return X, y\n",
        "\n",
        "\n",
        "def gen_simple_circular_distribution(n=100, scale=1):\n",
        "    a = np.round(n/3).astype('int')\n",
        "    b = n-a\n",
        "    r1 = np.random.normal(loc=0, scale=scale, size=[a, 1])\n",
        "    r2 = np.random.normal(loc=5, scale=scale, size=[b, 1])\n",
        "\n",
        "    th1 = np.random.uniform(low=0, high=2 * np.pi, size=[a, 1])\n",
        "    th2 = np.random.uniform(low=0, high=2 * np.pi, size=[b, 1])\n",
        "\n",
        "    x1a = r1 * np.cos(th1)\n",
        "    x2a = r1 * np.sin(th1)\n",
        "\n",
        "    x1b = r2 * np.cos(th2)\n",
        "    x2b = r2 * np.sin(th2)\n",
        "\n",
        "    X = np.concatenate([np.concatenate([x1a.reshape([a, 1]), x1b.reshape([b, 1])]),\n",
        "                        np.concatenate([x2a.reshape([a, 1]), x2b.reshape([b, 1])])], axis=1)\n",
        "\n",
        "    y = np.concatenate([np.zeros([a, 1]), np.ones([b, 1])]).squeeze()\n",
        "    return X, y\n",
        "\n",
        "\n",
        "def gen_xor_distribution(n=100):\n",
        "    a = np.round(n / 4).astype('int')\n",
        "    b = n-a*3\n",
        "    xc1 = np.concatenate([np.random.multivariate_normal([-2.3, -2.3], get_cov(0.4, 0.1, -45), a),\n",
        "                          np.random.multivariate_normal([2.3, 2.3], get_cov(0.4, 0.1, -45), a)])\n",
        "    xc2 = np.concatenate([np.random.multivariate_normal([-2.3, 2.3], get_cov(0.4, 0.1, 45), a),\n",
        "                          np.random.multivariate_normal([2.3, -2.3], get_cov(0.4, 0.1, 45), b)])\n",
        "    xc = np.array(np.concatenate([xc1, xc2]))\n",
        "\n",
        "    y = np.array(np.concatenate([np.zeros([2 * a, 1]), np.ones([a+b, 1])])).squeeze()\n",
        "    X = xc\n",
        "    return X, y\n"
      ],
      "execution_count": 3,
      "outputs": []
    },
    {
      "cell_type": "code",
      "metadata": {
        "id": "khbhZncTCllE"
      },
      "source": [
        "X, y = gen_simple_circular_distribution(200)\n",
        "\n",
        "import matplotlib.pyplot as plt\n",
        "\n",
        "fig, ax = plt.subplots()\n",
        "ax.scatter(X[y == 0, 0], X[y == 0, 1])\n",
        "ax.scatter(X[y == 1, 0], X[y == 1, 1])"
      ],
      "execution_count": null,
      "outputs": []
    },
    {
      "cell_type": "code",
      "metadata": {
        "id": "qGA0Lo6sKnnq"
      },
      "source": [
        "from keras.models import Sequential \n",
        "from keras.layers import Dense\n",
        "from keras.utils import *\n",
        "\n",
        "model = Sequential()\n",
        "\n",
        "model.add(Dense(units=4, activation='relu', input_dim=2)) \n",
        "model.add(Dense(units=4, activation='relu')) \n",
        "model.add(Dense(units=2, activation='softmax')) \n",
        "\n",
        "#overfitting example:\n",
        "# X, y = gen_simple_circular_distribution(n=40,scale=2)\n",
        "# model.add(Dense(units=6, activation='relu', input_dim=2)) \n",
        "# model.add(Dense(units=6, activation='relu')) \n",
        "# model.add(Dense(units=6, activation='relu')) \n",
        "# model.add(Dense(units=2, activation='softmax')) \n",
        "\n",
        "\n",
        "model.compile(loss='categorical_crossentropy',\n",
        "              optimizer='sgd',\n",
        "              metrics=['accuracy'])\n",
        "\n",
        "\n",
        "y_binary = to_categorical(y)\n",
        "\n",
        "model.fit(X, y_binary, epochs=250, batch_size=32)\n",
        "#overfitting example:\n",
        "#model.fit(X, y_binary, epochs=1000, batch_size=32)\n",
        "\n",
        "\n",
        "#generate the grid using a function\n",
        "def gen_sample_grid(npx=200, npy=200, limit=1):\n",
        "  x1line = np.linspace(-limit, limit, npx)\n",
        "  x2line = np.linspace(-limit, limit, npy)\n",
        "  x1grid, x2grid = np.meshgrid(x1line, x2line)\n",
        "  Xgrid = np.array([x1grid, x2grid]).reshape([2,npx*npy]).T\n",
        "  return Xgrid,x1line,x2line\n",
        "\n",
        "lim = 10\n",
        "Xgrid,x1line,x2line = gen_sample_grid(limit=lim)\n",
        "\n",
        "out_values = model.predict(Xgrid)\n",
        "\n",
        "out_grid = np.reshape(out_values[:, 0], [200, 200])\n",
        "\n",
        "fig, ax = plt.subplots()\n",
        "plt.contourf(x1line,x2line,out_grid)\n",
        "\n",
        "ax.scatter(X[y == 0, 0], X[y == 0, 1], marker='x', s=2)\n",
        "ax.scatter(X[y == 1, 0], X[y == 1, 1], marker='x', s=2)\n",
        "plt.xlim(-lim, lim)\n",
        "plt.ylim(-lim, lim)"
      ],
      "execution_count": null,
      "outputs": []
    },
    {
      "cell_type": "code",
      "metadata": {
        "id": "EoZOByszPMUJ",
        "outputId": "3fd85a6c-f1c6-43df-c7d4-0f3852de4454",
        "colab": {
          "base_uri": "https://localhost:8080/",
          "height": 17
        }
      },
      "source": [
        "model.save('model.h5')\n",
        "\n",
        "from google.colab import files \n",
        "files.download('model.h5')"
      ],
      "execution_count": 7,
      "outputs": [
        {
          "output_type": "display_data",
          "data": {
            "application/javascript": [
              "\n",
              "    async function download(id, filename, size) {\n",
              "      if (!google.colab.kernel.accessAllowed) {\n",
              "        return;\n",
              "      }\n",
              "      const div = document.createElement('div');\n",
              "      const label = document.createElement('label');\n",
              "      label.textContent = `Downloading \"${filename}\": `;\n",
              "      div.appendChild(label);\n",
              "      const progress = document.createElement('progress');\n",
              "      progress.max = size;\n",
              "      div.appendChild(progress);\n",
              "      document.body.appendChild(div);\n",
              "\n",
              "      const buffers = [];\n",
              "      let downloaded = 0;\n",
              "\n",
              "      const channel = await google.colab.kernel.comms.open(id);\n",
              "      // Send a message to notify the kernel that we're ready.\n",
              "      channel.send({})\n",
              "\n",
              "      for await (const message of channel.messages) {\n",
              "        // Send a message to notify the kernel that we're ready.\n",
              "        channel.send({})\n",
              "        if (message.buffers) {\n",
              "          for (const buffer of message.buffers) {\n",
              "            buffers.push(buffer);\n",
              "            downloaded += buffer.byteLength;\n",
              "            progress.value = downloaded;\n",
              "          }\n",
              "        }\n",
              "      }\n",
              "      const blob = new Blob(buffers, {type: 'application/binary'});\n",
              "      const a = document.createElement('a');\n",
              "      a.href = window.URL.createObjectURL(blob);\n",
              "      a.download = filename;\n",
              "      div.appendChild(a);\n",
              "      a.click();\n",
              "      div.remove();\n",
              "    }\n",
              "  "
            ],
            "text/plain": [
              "<IPython.core.display.Javascript object>"
            ]
          },
          "metadata": {
            "tags": []
          }
        },
        {
          "output_type": "display_data",
          "data": {
            "application/javascript": [
              "download(\"download_00c3c771-adaa-4e5f-84c0-4f58b36ede25\", \"model.h5\", 22456)"
            ],
            "text/plain": [
              "<IPython.core.display.Javascript object>"
            ]
          },
          "metadata": {
            "tags": []
          }
        }
      ]
    }
  ]
}